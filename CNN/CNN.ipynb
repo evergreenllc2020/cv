{
 "cells": [
  {
   "cell_type": "markdown",
   "metadata": {},
   "source": [
    "# CNN\n",
    "\n",
    "<img src=\"cnnimage.jpg\" style=\"width:1200px;height:400px;\">\n",
    "\n",
    "## Goals:\n",
    "### 1. Use CNN train on dog vs cat data\n",
    "### 2. EValuate Model\n",
    "### 3. Fine tune model"
   ]
  },
  {
   "cell_type": "code",
   "execution_count": 1,
   "metadata": {},
   "outputs": [
    {
     "name": "stderr",
     "output_type": "stream",
     "text": [
      "Using TensorFlow backend.\n"
     ]
    }
   ],
   "source": [
    "import glob\n",
    "import os\n",
    "import numpy as np\n",
    "import matplotlib.pyplot as plt\n",
    "from keras import regularizers\n",
    "from keras.models import Model\n",
    "from keras.optimizers import Adam\n",
    "from keras.layers import Dropout\n",
    "from keras.layers import GlobalAveragePooling2D\n",
    "from keras.layers import BatchNormalization\n",
    "from keras.layers import Activation,Dense\n",
    "from keras.models import Sequential,load_model\n",
    "from keras.preprocessing.image import ImageDataGenerator, img_to_array, load_img, array_to_img\n",
    "from keras.applications.inception_v3 import InceptionV3\n",
    "from os import listdir\n",
    "from os.path import isfile, join\n",
    "import numpy as np\n",
    "import pandas as pd\n",
    "from numpy.random import rand\n",
    "from keras.callbacks import ModelCheckpoint\n",
    "\n",
    "# Scikit Imports\n",
    "from sklearn.model_selection import train_test_split\n",
    "# Matplot Imports\n",
    "import matplotlib.pyplot as plt\n",
    "from keras.models import model_from_json\n",
    "\n",
    "import seaborn as sns "
   ]
  },
  {
   "cell_type": "code",
   "execution_count": 2,
   "metadata": {},
   "outputs": [],
   "source": [
    "# Intialize matplotlib parameters\n",
    "\n",
    "pd.options.display.max_colwidth = 600\n",
    "\n",
    "\n",
    "params = {'legend.fontsize': 'x-large',\n",
    "          'figure.figsize': (15, 5),\n",
    "          'axes.labelsize': 'x-large',\n",
    "          'axes.titlesize':'x-large',\n",
    "          'xtick.labelsize':'x-large',\n",
    "          'ytick.labelsize':'x-large'}\n",
    "\n",
    "plt.rcParams.update(params)\n",
    "%matplotlib inline\n",
    "\n",
    "# pandas display data frames as tables\n",
    "from IPython.display import display, HTML\n",
    "\n",
    "import warnings\n",
    "warnings.filterwarnings('ignore')"
   ]
  },
  {
   "cell_type": "markdown",
   "metadata": {},
   "source": [
    "## Get Dataset\n",
    "\n",
    "The Cats Vs Dogs dataset is available at [Kaggle/Dogbreed](https://www.kaggle.com/c/dogs-vs-cats/data).\n",
    "\n",
    "The download consists of train, test and label files"
   ]
  },
  {
   "cell_type": "code",
   "execution_count": 3,
   "metadata": {},
   "outputs": [],
   "source": [
    "train_folder = '/Volumes/My Passport for Mac/data/dogs-vs-cats/train/'\n",
    "test_folder = '/Volumes/My Passport for Mac/data/dogs-vs-cats/test/'\n"
   ]
  },
  {
   "cell_type": "code",
   "execution_count": null,
   "metadata": {},
   "outputs": [],
   "source": []
  },
  {
   "cell_type": "code",
   "execution_count": 4,
   "metadata": {},
   "outputs": [],
   "source": [
    "def getImagesFilePathsFromFolder(path):\n",
    "    files = []\n",
    "    #print(\"path: \" + path )\n",
    "    for f in listdir(path):\n",
    "        if( isfile(join(path, f)) and (\".jpg\" in f)) :\n",
    "            #print(\"path: \" + path)\n",
    "            #print(\"file:\" + f)\n",
    "            #print(\"path + file\", os.path.join(path, f))\n",
    "            files.append(os.path.join(path, f))  \n",
    "    return files"
   ]
  },
  {
   "cell_type": "code",
   "execution_count": 5,
   "metadata": {},
   "outputs": [
    {
     "name": "stdout",
     "output_type": "stream",
     "text": [
      "/Volumes/My Passport for Mac/data/dogs-vs-cats/train/\n"
     ]
    }
   ],
   "source": [
    "data_dict = {}\n",
    "target_labels_list = []\n",
    "image_path_list = []\n",
    "counter = 0\n",
    "fileCounter = 0\n",
    "\n",
    "walkIterations = 0\n",
    "print(train_folder)\n",
    "fileList = getImagesFilePathsFromFolder(train_folder)\n",
    "for file in fileList:\n",
    "    label = file.split(\"/\")[-1]\n",
    "    label = label.split(\".\")[0]\n",
    "    image_path = file\n",
    "    target_labels_list.append(label)\n",
    "    image_path_list.append(image_path)\n",
    "    counter = counter + 1\n",
    "    fileCounter = fileCounter + 1\n",
    "\n",
    "    \n",
    "                \n",
    "data_dict[\"label\"] = target_labels_list            \n",
    "data_dict[\"image_path\"] = image_path_list\n",
    "input_df = pd.DataFrame(data_dict)\n"
   ]
  },
  {
   "cell_type": "code",
   "execution_count": 6,
   "metadata": {},
   "outputs": [
    {
     "data": {
      "text/html": [
       "<div>\n",
       "<style scoped>\n",
       "    .dataframe tbody tr th:only-of-type {\n",
       "        vertical-align: middle;\n",
       "    }\n",
       "\n",
       "    .dataframe tbody tr th {\n",
       "        vertical-align: top;\n",
       "    }\n",
       "\n",
       "    .dataframe thead th {\n",
       "        text-align: right;\n",
       "    }\n",
       "</style>\n",
       "<table border=\"1\" class=\"dataframe\">\n",
       "  <thead>\n",
       "    <tr style=\"text-align: right;\">\n",
       "      <th></th>\n",
       "      <th>label</th>\n",
       "      <th>image_path</th>\n",
       "    </tr>\n",
       "  </thead>\n",
       "  <tbody>\n",
       "    <tr>\n",
       "      <th>count</th>\n",
       "      <td>25000</td>\n",
       "      <td>25000</td>\n",
       "    </tr>\n",
       "    <tr>\n",
       "      <th>unique</th>\n",
       "      <td>2</td>\n",
       "      <td>25000</td>\n",
       "    </tr>\n",
       "    <tr>\n",
       "      <th>top</th>\n",
       "      <td>dog</td>\n",
       "      <td>/Volumes/My Passport for Mac/data/dogs-vs-cats/train/dog.5389.jpg</td>\n",
       "    </tr>\n",
       "    <tr>\n",
       "      <th>freq</th>\n",
       "      <td>12500</td>\n",
       "      <td>1</td>\n",
       "    </tr>\n",
       "  </tbody>\n",
       "</table>\n",
       "</div>"
      ],
      "text/plain": [
       "        label  \\\n",
       "count   25000   \n",
       "unique      2   \n",
       "top       dog   \n",
       "freq    12500   \n",
       "\n",
       "                                                               image_path  \n",
       "count                                                               25000  \n",
       "unique                                                              25000  \n",
       "top     /Volumes/My Passport for Mac/data/dogs-vs-cats/train/dog.5389.jpg  \n",
       "freq                                                                    1  "
      ]
     },
     "execution_count": 6,
     "metadata": {},
     "output_type": "execute_result"
    }
   ],
   "source": [
    "input_df.describe()\n"
   ]
  },
  {
   "cell_type": "code",
   "execution_count": 7,
   "metadata": {},
   "outputs": [
    {
     "data": {
      "text/html": [
       "<div>\n",
       "<style scoped>\n",
       "    .dataframe tbody tr th:only-of-type {\n",
       "        vertical-align: middle;\n",
       "    }\n",
       "\n",
       "    .dataframe tbody tr th {\n",
       "        vertical-align: top;\n",
       "    }\n",
       "\n",
       "    .dataframe thead th {\n",
       "        text-align: right;\n",
       "    }\n",
       "</style>\n",
       "<table border=\"1\" class=\"dataframe\">\n",
       "  <thead>\n",
       "    <tr style=\"text-align: right;\">\n",
       "      <th></th>\n",
       "      <th>label</th>\n",
       "      <th>image_path</th>\n",
       "    </tr>\n",
       "  </thead>\n",
       "  <tbody>\n",
       "    <tr>\n",
       "      <th>0</th>\n",
       "      <td>cat</td>\n",
       "      <td>/Volumes/My Passport for Mac/data/dogs-vs-cats/train/cat.0.jpg</td>\n",
       "    </tr>\n",
       "    <tr>\n",
       "      <th>1</th>\n",
       "      <td>cat</td>\n",
       "      <td>/Volumes/My Passport for Mac/data/dogs-vs-cats/train/cat.1.jpg</td>\n",
       "    </tr>\n",
       "    <tr>\n",
       "      <th>2</th>\n",
       "      <td>cat</td>\n",
       "      <td>/Volumes/My Passport for Mac/data/dogs-vs-cats/train/cat.10.jpg</td>\n",
       "    </tr>\n",
       "    <tr>\n",
       "      <th>3</th>\n",
       "      <td>cat</td>\n",
       "      <td>/Volumes/My Passport for Mac/data/dogs-vs-cats/train/cat.100.jpg</td>\n",
       "    </tr>\n",
       "    <tr>\n",
       "      <th>4</th>\n",
       "      <td>cat</td>\n",
       "      <td>/Volumes/My Passport for Mac/data/dogs-vs-cats/train/cat.1000.jpg</td>\n",
       "    </tr>\n",
       "  </tbody>\n",
       "</table>\n",
       "</div>"
      ],
      "text/plain": [
       "  label                                                         image_path\n",
       "0   cat     /Volumes/My Passport for Mac/data/dogs-vs-cats/train/cat.0.jpg\n",
       "1   cat     /Volumes/My Passport for Mac/data/dogs-vs-cats/train/cat.1.jpg\n",
       "2   cat    /Volumes/My Passport for Mac/data/dogs-vs-cats/train/cat.10.jpg\n",
       "3   cat   /Volumes/My Passport for Mac/data/dogs-vs-cats/train/cat.100.jpg\n",
       "4   cat  /Volumes/My Passport for Mac/data/dogs-vs-cats/train/cat.1000.jpg"
      ]
     },
     "execution_count": 7,
     "metadata": {},
     "output_type": "execute_result"
    }
   ],
   "source": [
    "input_df.head()"
   ]
  },
  {
   "cell_type": "markdown",
   "metadata": {},
   "source": [
    "## Check Number of Classes in the Dataset\n",
    "\n",
    "The dataset contain 120 different dog breeds"
   ]
  },
  {
   "cell_type": "code",
   "execution_count": 8,
   "metadata": {},
   "outputs": [
    {
     "name": "stdout",
     "output_type": "stream",
     "text": [
      "0    cat\n",
      "1    cat\n",
      "2    cat\n",
      "3    cat\n",
      "4    cat\n",
      "Name: label, dtype: object\n"
     ]
    }
   ],
   "source": [
    "target_labels = input_df['label']\n",
    "len(set(target_labels))\n",
    "print(target_labels[0:5])"
   ]
  },
  {
   "cell_type": "markdown",
   "metadata": {},
   "source": [
    "### Understand Data"
   ]
  },
  {
   "cell_type": "code",
   "execution_count": 9,
   "metadata": {},
   "outputs": [
    {
     "data": {
      "image/png": "[encoded data removed]",
      "text/plain": [
       "<Figure size 1274.4x1819.44 with 1 Axes>"
      ]
     },
     "metadata": {},
     "output_type": "display_data"
    },
    {
     "data": {
      "image/png": "[encoded data removed]",
      "text/plain": [
       "<Figure size 360x360 with 1 Axes>"
      ]
     },
     "metadata": {},
     "output_type": "display_data"
    }
   ],
   "source": [
    "sns.set(style=\"darkgrid\")\n",
    "sns.set(color_codes=True)\n",
    "fig, ax = plt.subplots()\n",
    "fig.set_size_inches(17.7, 25.27)\n",
    "sns.catplot(y=\"label\",   kind=\"count\", palette=\"ch:.25\",ax=ax, data=input_df, order=input_df.label.value_counts().iloc[:20].index);\n"
   ]
  },
  {
   "cell_type": "code",
   "execution_count": 10,
   "metadata": {},
   "outputs": [
    {
     "name": "stdout",
     "output_type": "stream",
     "text": [
      "(25000, 2)\n",
      "<class 'pandas.core.frame.DataFrame'>\n",
      "(25000, 2)\n",
      "[[1 0]\n",
      " [1 0]\n",
      " [1 0]\n",
      " [1 0]\n",
      " [1 0]]\n"
     ]
    },
    {
     "data": {
      "text/html": [
       "<div>\n",
       "<style scoped>\n",
       "    .dataframe tbody tr th:only-of-type {\n",
       "        vertical-align: middle;\n",
       "    }\n",
       "\n",
       "    .dataframe tbody tr th {\n",
       "        vertical-align: top;\n",
       "    }\n",
       "\n",
       "    .dataframe thead th {\n",
       "        text-align: right;\n",
       "    }\n",
       "</style>\n",
       "<table border=\"1\" class=\"dataframe\">\n",
       "  <thead>\n",
       "    <tr style=\"text-align: right;\">\n",
       "      <th></th>\n",
       "      <th>cat</th>\n",
       "      <th>dog</th>\n",
       "    </tr>\n",
       "  </thead>\n",
       "  <tbody>\n",
       "    <tr>\n",
       "      <th>0</th>\n",
       "      <td>1</td>\n",
       "      <td>0</td>\n",
       "    </tr>\n",
       "    <tr>\n",
       "      <th>1</th>\n",
       "      <td>1</td>\n",
       "      <td>0</td>\n",
       "    </tr>\n",
       "    <tr>\n",
       "      <th>2</th>\n",
       "      <td>1</td>\n",
       "      <td>0</td>\n",
       "    </tr>\n",
       "    <tr>\n",
       "      <th>3</th>\n",
       "      <td>1</td>\n",
       "      <td>0</td>\n",
       "    </tr>\n",
       "    <tr>\n",
       "      <th>4</th>\n",
       "      <td>1</td>\n",
       "      <td>0</td>\n",
       "    </tr>\n",
       "  </tbody>\n",
       "</table>\n",
       "</div>"
      ],
      "text/plain": [
       "   cat  dog\n",
       "0    1    0\n",
       "1    1    0\n",
       "2    1    0\n",
       "3    1    0\n",
       "4    1    0"
      ]
     },
     "execution_count": 10,
     "metadata": {},
     "output_type": "execute_result"
    }
   ],
   "source": [
    "labels_ohe_names = pd.get_dummies(target_labels, sparse=True)\n",
    "\n",
    "print(labels_ohe_names.shape)\n",
    "labels_ohe = np.asarray(labels_ohe_names)\n",
    "labels_ohe_names.to_csv(\"labels.csv\")\n",
    "print(type(labels_ohe_names))\n",
    "print(labels_ohe.shape)\n",
    "print(labels_ohe[0:5])\n",
    "labels_ohe_names.head()"
   ]
  },
  {
   "cell_type": "markdown",
   "metadata": {},
   "source": [
    "## Prepare Train-Test Datasets\n",
    "We use a 70-30 split to prepare the two dataset. "
   ]
  },
  {
   "cell_type": "code",
   "execution_count": 11,
   "metadata": {},
   "outputs": [],
   "source": [
    "IMG_DIM = (150, 150)\n",
    "train_data = np.array([img_to_array(\n",
    "                            load_img(img, \n",
    "                                     target_size=IMG_DIM)\n",
    "                       ) for img \n",
    "                           in input_df['image_path'].values.tolist()\n",
    "                      ]).astype('float32')"
   ]
  },
  {
   "cell_type": "code",
   "execution_count": 12,
   "metadata": {},
   "outputs": [
    {
     "data": {
      "text/plain": [
       "(25000, 150, 150, 3)"
      ]
     },
     "execution_count": 12,
     "metadata": {},
     "output_type": "execute_result"
    }
   ],
   "source": [
    "train_data.shape"
   ]
  },
  {
   "cell_type": "code",
   "execution_count": 13,
   "metadata": {},
   "outputs": [],
   "source": [
    "x_train, x_test, y_train, y_test = train_test_split(train_data, \n",
    "                                                    target_labels, \n",
    "                                                    test_size=0.3, \n",
    "                                                    stratify=np.array(target_labels), \n",
    "                                                    random_state=42)"
   ]
  },
  {
   "cell_type": "code",
   "execution_count": 14,
   "metadata": {},
   "outputs": [
    {
     "data": {
      "text/plain": [
       "((17500, 150, 150, 3), (7500, 150, 150, 3))"
      ]
     },
     "execution_count": 14,
     "metadata": {},
     "output_type": "execute_result"
    }
   ],
   "source": [
    "x_train.shape, x_test.shape"
   ]
  },
  {
   "cell_type": "markdown",
   "metadata": {},
   "source": [
    "### Prepare Validation Dataset"
   ]
  },
  {
   "cell_type": "code",
   "execution_count": 15,
   "metadata": {},
   "outputs": [],
   "source": [
    "x_train, x_val, y_train, y_val = train_test_split(x_train, \n",
    "                                                    y_train, \n",
    "                                                    test_size=0.15, \n",
    "                                                    stratify=np.array(y_train), \n",
    "                                                    random_state=42)"
   ]
  },
  {
   "cell_type": "code",
   "execution_count": 16,
   "metadata": {},
   "outputs": [
    {
     "data": {
      "text/plain": [
       "((14875, 150, 150, 3), (2625, 150, 150, 3))"
      ]
     },
     "execution_count": 16,
     "metadata": {},
     "output_type": "execute_result"
    }
   ],
   "source": [
    "x_train.shape, x_val.shape"
   ]
  },
  {
   "cell_type": "code",
   "execution_count": 17,
   "metadata": {},
   "outputs": [
    {
     "name": "stdout",
     "output_type": "stream",
     "text": [
      "(14875,)\n"
     ]
    }
   ],
   "source": [
    "print(y_train.shape)"
   ]
  },
  {
   "cell_type": "markdown",
   "metadata": {},
   "source": [
    "### Prepare target variables for train, test and validation datasets"
   ]
  },
  {
   "cell_type": "code",
   "execution_count": 18,
   "metadata": {},
   "outputs": [
    {
     "data": {
      "text/plain": [
       "((14875, 2), (7500, 2), (2625, 2))"
      ]
     },
     "execution_count": 18,
     "metadata": {},
     "output_type": "execute_result"
    }
   ],
   "source": [
    "y_train_ohe = pd.get_dummies(y_train.reset_index(drop=True)).as_matrix()\n",
    "y_val_ohe = pd.get_dummies(y_val.reset_index(drop=True)).as_matrix()\n",
    "y_test_ohe = pd.get_dummies(y_test.reset_index(drop=True)).as_matrix()\n",
    "\n",
    "y_train_ohe.shape, y_test_ohe.shape, y_val_ohe.shape"
   ]
  },
  {
   "cell_type": "markdown",
   "metadata": {},
   "source": [
    "## Data Augmentation\n",
    "\n",
    "Since number of samples per class are not very high, we utilize data augmentation to prepare different variations of different samples available. We do this using the ```ImageDataGenerator utility``` from ```keras```"
   ]
  },
  {
   "cell_type": "code",
   "execution_count": 19,
   "metadata": {},
   "outputs": [],
   "source": [
    "BATCH_SIZE = 32"
   ]
  },
  {
   "cell_type": "code",
   "execution_count": 20,
   "metadata": {},
   "outputs": [],
   "source": [
    "# Create train generator.\n",
    "train_datagen = ImageDataGenerator(rescale=1./255, \n",
    "                                   rotation_range=30, \n",
    "                                   width_shift_range=0.2,\n",
    "                                   height_shift_range=0.2, \n",
    "                                   horizontal_flip = 'true')\n",
    "train_generator = train_datagen.flow(x_train, y_train_ohe, shuffle=False, batch_size=BATCH_SIZE, seed=1)"
   ]
  },
  {
   "cell_type": "code",
   "execution_count": 21,
   "metadata": {},
   "outputs": [],
   "source": [
    "# Create validation generator\n",
    "val_datagen = ImageDataGenerator(rescale = 1./255)\n",
    "val_generator = train_datagen.flow(x_val, y_val_ohe, shuffle=False, batch_size=BATCH_SIZE, seed=1)"
   ]
  },
  {
   "cell_type": "markdown",
   "metadata": {},
   "source": [
    "## Prepare Deep Learning Classifier\n",
    "\n",
    "* Load InceptionV3 pretrained on ImageNet without its top/classification layer\n",
    "* Add additional custom layers on top of InceptionV3 to prepare custom classifier"
   ]
  },
  {
   "cell_type": "code",
   "execution_count": null,
   "metadata": {},
   "outputs": [],
   "source": []
  },
  {
   "cell_type": "code",
   "execution_count": null,
   "metadata": {},
   "outputs": [],
   "source": []
  },
  {
   "cell_type": "code",
   "execution_count": 22,
   "metadata": {},
   "outputs": [
    {
     "name": "stdout",
     "output_type": "stream",
     "text": [
      "(150, 150, 3)\n"
     ]
    },
    {
     "data": {
      "image/png": "[encoded data removed]",
      "text/plain": [
       "<PIL.Image.Image image mode=RGB size=150x150 at 0x1454BB4A8>"
      ]
     },
     "execution_count": 22,
     "metadata": {},
     "output_type": "execute_result"
    }
   ],
   "source": [
    "print(x_train[1].shape)\n",
    "array_to_img(x_train[3])"
   ]
  },
  {
   "cell_type": "code",
   "execution_count": null,
   "metadata": {},
   "outputs": [],
   "source": []
  },
  {
   "cell_type": "code",
   "execution_count": 27,
   "metadata": {},
   "outputs": [
    {
     "name": "stdout",
     "output_type": "stream",
     "text": [
      "Model: \"sequential_3\"\n",
      "_________________________________________________________________\n",
      "Layer (type)                 Output Shape              Param #   \n",
      "=================================================================\n",
      "conv2d_7 (Conv2D)            (None, 148, 148, 16)      448       \n",
      "_________________________________________________________________\n",
      "max_pooling2d_7 (MaxPooling2 (None, 74, 74, 16)        0         \n",
      "_________________________________________________________________\n",
      "conv2d_8 (Conv2D)            (None, 72, 72, 64)        9280      \n",
      "_________________________________________________________________\n",
      "max_pooling2d_8 (MaxPooling2 (None, 36, 36, 64)        0         \n",
      "_________________________________________________________________\n",
      "conv2d_9 (Conv2D)            (None, 34, 34, 128)       73856     \n",
      "_________________________________________________________________\n",
      "max_pooling2d_9 (MaxPooling2 (None, 17, 17, 128)       0         \n",
      "_________________________________________________________________\n",
      "flatten_3 (Flatten)          (None, 36992)             0         \n",
      "_________________________________________________________________\n",
      "dense_5 (Dense)              (None, 512)               18940416  \n",
      "_________________________________________________________________\n",
      "dense_6 (Dense)              (None, 2)                 1026      \n",
      "=================================================================\n",
      "Total params: 19,025,026\n",
      "Trainable params: 19,025,026\n",
      "Non-trainable params: 0\n",
      "_________________________________________________________________\n"
     ]
    }
   ],
   "source": [
    "from keras.layers import Conv2D, MaxPooling2D, Flatten, Dense, Dropout\n",
    "from keras.models import Sequential\n",
    "from keras import optimizers\n",
    "\n",
    "model = Sequential()\n",
    "\n",
    "model.add(Conv2D(16, kernel_size=(3, 3), activation='relu', \n",
    "                 input_shape=(150, 150, 3)))\n",
    "model.add(MaxPooling2D(pool_size=(2, 2)))\n",
    "\n",
    "model.add(Conv2D(64, kernel_size=(3, 3), activation='relu'))\n",
    "model.add(MaxPooling2D(pool_size=(2, 2)))\n",
    "\n",
    "model.add(Conv2D(128, kernel_size=(3, 3), activation='relu'))\n",
    "model.add(MaxPooling2D(pool_size=(2, 2)))\n",
    "\n",
    "model.add(Flatten())\n",
    "model.add(Dense(512, activation='relu'))\n",
    "total_classes = y_train_ohe.shape[1]\n",
    "model.add(Dense(total_classes, activation='softmax'))\n",
    "#model.add(Dense(1, activation='sigmoid'))\n",
    "\n",
    "\n",
    "#predictions = Dense(total_classes, activation='softmax')(out)\n",
    "\n",
    "\n",
    "model.compile(loss='categorical_crossentropy',\n",
    "              optimizer=Adam(lr=.0001),\n",
    "              metrics=['accuracy'])\n",
    "\n",
    "model.summary()"
   ]
  },
  {
   "cell_type": "code",
   "execution_count": 24,
   "metadata": {},
   "outputs": [
    {
     "ename": "OSError",
     "evalue": "`pydot` failed to call GraphViz.Please install GraphViz (https://www.graphviz.org/) and ensure that its executables are in the $PATH.",
     "output_type": "error",
     "traceback": [
      "\u001b[0;31m---------------------------------------------------------------------------\u001b[0m",
      "\u001b[0;31mFileNotFoundError\u001b[0m                         Traceback (most recent call last)",
      "\u001b[0;32m~/opt/anaconda3/envs/p36/lib/python3.6/site-packages/pydot.py\u001b[0m in \u001b[0;36mcreate\u001b[0;34m(self, prog, format, encoding)\u001b[0m\n\u001b[1;32m   1914\u001b[0m                 \u001b[0marguments\u001b[0m\u001b[0;34m=\u001b[0m\u001b[0marguments\u001b[0m\u001b[0;34m,\u001b[0m\u001b[0;34m\u001b[0m\u001b[0;34m\u001b[0m\u001b[0m\n\u001b[0;32m-> 1915\u001b[0;31m                 \u001b[0mworking_dir\u001b[0m\u001b[0;34m=\u001b[0m\u001b[0mtmp_dir\u001b[0m\u001b[0;34m,\u001b[0m\u001b[0;34m\u001b[0m\u001b[0;34m\u001b[0m\u001b[0m\n\u001b[0m\u001b[1;32m   1916\u001b[0m             )\n",
      "\u001b[0;32m~/opt/anaconda3/envs/p36/lib/python3.6/site-packages/pydot.py\u001b[0m in \u001b[0;36mcall_graphviz\u001b[0;34m(program, arguments, working_dir, **kwargs)\u001b[0m\n\u001b[1;32m    135\u001b[0m         \u001b[0mstdout\u001b[0m\u001b[0;34m=\u001b[0m\u001b[0msubprocess\u001b[0m\u001b[0;34m.\u001b[0m\u001b[0mPIPE\u001b[0m\u001b[0;34m,\u001b[0m\u001b[0;34m\u001b[0m\u001b[0;34m\u001b[0m\u001b[0m\n\u001b[0;32m--> 136\u001b[0;31m         \u001b[0;34m**\u001b[0m\u001b[0mkwargs\u001b[0m\u001b[0;34m\u001b[0m\u001b[0;34m\u001b[0m\u001b[0m\n\u001b[0m\u001b[1;32m    137\u001b[0m     )\n",
      "\u001b[0;32m~/opt/anaconda3/envs/p36/lib/python3.6/subprocess.py\u001b[0m in \u001b[0;36m__init__\u001b[0;34m(self, args, bufsize, executable, stdin, stdout, stderr, preexec_fn, close_fds, shell, cwd, env, universal_newlines, startupinfo, creationflags, restore_signals, start_new_session, pass_fds, encoding, errors)\u001b[0m\n\u001b[1;32m    728\u001b[0m                                 \u001b[0merrread\u001b[0m\u001b[0;34m,\u001b[0m \u001b[0merrwrite\u001b[0m\u001b[0;34m,\u001b[0m\u001b[0;34m\u001b[0m\u001b[0;34m\u001b[0m\u001b[0m\n\u001b[0;32m--> 729\u001b[0;31m                                 restore_signals, start_new_session)\n\u001b[0m\u001b[1;32m    730\u001b[0m         \u001b[0;32mexcept\u001b[0m\u001b[0;34m:\u001b[0m\u001b[0;34m\u001b[0m\u001b[0;34m\u001b[0m\u001b[0m\n",
      "\u001b[0;32m~/opt/anaconda3/envs/p36/lib/python3.6/subprocess.py\u001b[0m in \u001b[0;36m_execute_child\u001b[0;34m(self, args, executable, preexec_fn, close_fds, pass_fds, cwd, env, startupinfo, creationflags, shell, p2cread, p2cwrite, c2pread, c2pwrite, errread, errwrite, restore_signals, start_new_session)\u001b[0m\n\u001b[1;32m   1363\u001b[0m                             \u001b[0merr_msg\u001b[0m \u001b[0;34m+=\u001b[0m \u001b[0;34m': '\u001b[0m \u001b[0;34m+\u001b[0m \u001b[0mrepr\u001b[0m\u001b[0;34m(\u001b[0m\u001b[0merr_filename\u001b[0m\u001b[0;34m)\u001b[0m\u001b[0;34m\u001b[0m\u001b[0;34m\u001b[0m\u001b[0m\n\u001b[0;32m-> 1364\u001b[0;31m                     \u001b[0;32mraise\u001b[0m \u001b[0mchild_exception_type\u001b[0m\u001b[0;34m(\u001b[0m\u001b[0merrno_num\u001b[0m\u001b[0;34m,\u001b[0m \u001b[0merr_msg\u001b[0m\u001b[0;34m,\u001b[0m \u001b[0merr_filename\u001b[0m\u001b[0;34m)\u001b[0m\u001b[0;34m\u001b[0m\u001b[0;34m\u001b[0m\u001b[0m\n\u001b[0m\u001b[1;32m   1365\u001b[0m                 \u001b[0;32mraise\u001b[0m \u001b[0mchild_exception_type\u001b[0m\u001b[0;34m(\u001b[0m\u001b[0merr_msg\u001b[0m\u001b[0;34m)\u001b[0m\u001b[0;34m\u001b[0m\u001b[0;34m\u001b[0m\u001b[0m\n",
      "\u001b[0;31mFileNotFoundError\u001b[0m: [Errno 2] No such file or directory: 'dot': 'dot'",
      "\nDuring handling of the above exception, another exception occurred:\n",
      "\u001b[0;31mFileNotFoundError\u001b[0m                         Traceback (most recent call last)",
      "\u001b[0;32m~/opt/anaconda3/envs/p36/lib/python3.6/site-packages/keras/utils/vis_utils.py\u001b[0m in \u001b[0;36m_check_pydot\u001b[0;34m()\u001b[0m\n\u001b[1;32m     27\u001b[0m         \u001b[0;31m# to check the pydot/graphviz installation.\u001b[0m\u001b[0;34m\u001b[0m\u001b[0;34m\u001b[0m\u001b[0;34m\u001b[0m\u001b[0m\n\u001b[0;32m---> 28\u001b[0;31m         \u001b[0mpydot\u001b[0m\u001b[0;34m.\u001b[0m\u001b[0mDot\u001b[0m\u001b[0;34m.\u001b[0m\u001b[0mcreate\u001b[0m\u001b[0;34m(\u001b[0m\u001b[0mpydot\u001b[0m\u001b[0;34m.\u001b[0m\u001b[0mDot\u001b[0m\u001b[0;34m(\u001b[0m\u001b[0;34m)\u001b[0m\u001b[0;34m)\u001b[0m\u001b[0;34m\u001b[0m\u001b[0;34m\u001b[0m\u001b[0m\n\u001b[0m\u001b[1;32m     29\u001b[0m     \u001b[0;32mexcept\u001b[0m \u001b[0mOSError\u001b[0m\u001b[0;34m:\u001b[0m\u001b[0;34m\u001b[0m\u001b[0;34m\u001b[0m\u001b[0m\n",
      "\u001b[0;32m~/opt/anaconda3/envs/p36/lib/python3.6/site-packages/pydot.py\u001b[0m in \u001b[0;36mcreate\u001b[0;34m(self, prog, format, encoding)\u001b[0m\n\u001b[1;32m   1921\u001b[0m                     prog=prog)\n\u001b[0;32m-> 1922\u001b[0;31m                 \u001b[0;32mraise\u001b[0m \u001b[0mOSError\u001b[0m\u001b[0;34m(\u001b[0m\u001b[0;34m*\u001b[0m\u001b[0margs\u001b[0m\u001b[0;34m)\u001b[0m\u001b[0;34m\u001b[0m\u001b[0;34m\u001b[0m\u001b[0m\n\u001b[0m\u001b[1;32m   1923\u001b[0m             \u001b[0;32melse\u001b[0m\u001b[0;34m:\u001b[0m\u001b[0;34m\u001b[0m\u001b[0;34m\u001b[0m\u001b[0m\n",
      "\u001b[0;31mFileNotFoundError\u001b[0m: [Errno 2] \"dot\" not found in path.",
      "\nDuring handling of the above exception, another exception occurred:\n",
      "\u001b[0;31mOSError\u001b[0m                                   Traceback (most recent call last)",
      "\u001b[0;32m<ipython-input-24-04f29a4f7d87>\u001b[0m in \u001b[0;36m<module>\u001b[0;34m\u001b[0m\n\u001b[1;32m      3\u001b[0m \u001b[0;34m\u001b[0m\u001b[0m\n\u001b[1;32m      4\u001b[0m SVG(model_to_dot(model, show_shapes=True, \n\u001b[0;32m----> 5\u001b[0;31m                  show_layer_names=True, rankdir='TB').create(prog='dot', format='svg'))\n\u001b[0m",
      "\u001b[0;32m~/opt/anaconda3/envs/p36/lib/python3.6/site-packages/keras/utils/vis_utils.py\u001b[0m in \u001b[0;36mmodel_to_dot\u001b[0;34m(model, show_shapes, show_layer_names, rankdir, expand_nested, dpi, subgraph)\u001b[0m\n\u001b[1;32m     77\u001b[0m     \u001b[0;32mfrom\u001b[0m \u001b[0;34m.\u001b[0m\u001b[0;34m.\u001b[0m\u001b[0mmodels\u001b[0m \u001b[0;32mimport\u001b[0m \u001b[0mSequential\u001b[0m\u001b[0;34m\u001b[0m\u001b[0;34m\u001b[0m\u001b[0m\n\u001b[1;32m     78\u001b[0m \u001b[0;34m\u001b[0m\u001b[0m\n\u001b[0;32m---> 79\u001b[0;31m     \u001b[0m_check_pydot\u001b[0m\u001b[0;34m(\u001b[0m\u001b[0;34m)\u001b[0m\u001b[0;34m\u001b[0m\u001b[0;34m\u001b[0m\u001b[0m\n\u001b[0m\u001b[1;32m     80\u001b[0m     \u001b[0;32mif\u001b[0m \u001b[0msubgraph\u001b[0m\u001b[0;34m:\u001b[0m\u001b[0;34m\u001b[0m\u001b[0;34m\u001b[0m\u001b[0m\n\u001b[1;32m     81\u001b[0m         \u001b[0mdot\u001b[0m \u001b[0;34m=\u001b[0m \u001b[0mpydot\u001b[0m\u001b[0;34m.\u001b[0m\u001b[0mCluster\u001b[0m\u001b[0;34m(\u001b[0m\u001b[0mstyle\u001b[0m\u001b[0;34m=\u001b[0m\u001b[0;34m'dashed'\u001b[0m\u001b[0;34m,\u001b[0m \u001b[0mgraph_name\u001b[0m\u001b[0;34m=\u001b[0m\u001b[0mmodel\u001b[0m\u001b[0;34m.\u001b[0m\u001b[0mname\u001b[0m\u001b[0;34m)\u001b[0m\u001b[0;34m\u001b[0m\u001b[0;34m\u001b[0m\u001b[0m\n",
      "\u001b[0;32m~/opt/anaconda3/envs/p36/lib/python3.6/site-packages/keras/utils/vis_utils.py\u001b[0m in \u001b[0;36m_check_pydot\u001b[0;34m()\u001b[0m\n\u001b[1;32m     29\u001b[0m     \u001b[0;32mexcept\u001b[0m \u001b[0mOSError\u001b[0m\u001b[0;34m:\u001b[0m\u001b[0;34m\u001b[0m\u001b[0;34m\u001b[0m\u001b[0m\n\u001b[1;32m     30\u001b[0m         raise OSError(\n\u001b[0;32m---> 31\u001b[0;31m             \u001b[0;34m'`pydot` failed to call GraphViz.'\u001b[0m\u001b[0;34m\u001b[0m\u001b[0;34m\u001b[0m\u001b[0m\n\u001b[0m\u001b[1;32m     32\u001b[0m             \u001b[0;34m'Please install GraphViz (https://www.graphviz.org/) '\u001b[0m\u001b[0;34m\u001b[0m\u001b[0;34m\u001b[0m\u001b[0m\n\u001b[1;32m     33\u001b[0m             'and ensure that its executables are in the $PATH.')\n",
      "\u001b[0;31mOSError\u001b[0m: `pydot` failed to call GraphViz.Please install GraphViz (https://www.graphviz.org/) and ensure that its executables are in the $PATH."
     ]
    }
   ],
   "source": [
    "#from IPython.display import SVG\n",
    "#from keras.utils.vis_utils import model_to_dot\n",
    "\n",
    "#SVG(model_to_dot(model, show_shapes=True, \n",
    "#                 show_layer_names=True, rankdir='TB').create(prog='dot', format='svg'))"
   ]
  },
  {
   "cell_type": "code",
   "execution_count": 28,
   "metadata": {},
   "outputs": [
    {
     "name": "stdout",
     "output_type": "stream",
     "text": [
      "Epoch 1/15\n",
      "464/464 [==============================] - 197s 425ms/step - loss: 0.6451 - accuracy: 0.6240 - val_loss: 0.5513 - val_accuracy: 0.6707\n",
      "\n",
      "Epoch 00001: val_loss improved from inf to 0.55134, saving model to model-001-0.623998-0.670732.h5\n",
      "Epoch 2/15\n",
      "464/464 [==============================] - 197s 425ms/step - loss: 0.5862 - accuracy: 0.6846 - val_loss: 0.5620 - val_accuracy: 0.6830\n",
      "\n",
      "Epoch 00002: val_loss did not improve from 0.55134\n",
      "Epoch 3/15\n",
      "464/464 [==============================] - 197s 425ms/step - loss: 0.5605 - accuracy: 0.7090 - val_loss: 0.5243 - val_accuracy: 0.6799\n",
      "\n",
      "Epoch 00003: val_loss improved from 0.55134 to 0.52426, saving model to model-003-0.708954-0.679907.h5\n",
      "Epoch 4/15\n",
      "464/464 [==============================] - 197s 425ms/step - loss: 0.5419 - accuracy: 0.7240 - val_loss: 0.5624 - val_accuracy: 0.7123\n",
      "\n",
      "Epoch 00004: val_loss did not improve from 0.52426\n",
      "Epoch 5/15\n",
      "464/464 [==============================] - 205s 442ms/step - loss: 0.5293 - accuracy: 0.7329 - val_loss: 0.5538 - val_accuracy: 0.7358\n",
      "\n",
      "Epoch 00005: val_loss did not improve from 0.52426\n",
      "Epoch 6/15\n",
      "464/464 [==============================] - 198s 427ms/step - loss: 0.5125 - accuracy: 0.7437 - val_loss: 0.4239 - val_accuracy: 0.7497\n",
      "\n",
      "Epoch 00006: val_loss improved from 0.52426 to 0.42387, saving model to model-006-0.743650-0.749711.h5\n",
      "Epoch 7/15\n",
      "464/464 [==============================] - 197s 425ms/step - loss: 0.4992 - accuracy: 0.7522 - val_loss: 0.4280 - val_accuracy: 0.7586\n",
      "\n",
      "Epoch 00007: val_loss did not improve from 0.42387\n",
      "Epoch 8/15\n",
      "464/464 [==============================] - 194s 418ms/step - loss: 0.4851 - accuracy: 0.7659 - val_loss: 0.4846 - val_accuracy: 0.7536\n",
      "\n",
      "Epoch 00008: val_loss did not improve from 0.42387\n",
      "Epoch 9/15\n",
      "464/464 [==============================] - 194s 418ms/step - loss: 0.4845 - accuracy: 0.7648 - val_loss: 0.5015 - val_accuracy: 0.7655\n",
      "\n",
      "Epoch 00009: val_loss did not improve from 0.42387\n",
      "Epoch 10/15\n",
      "464/464 [==============================] - 193s 416ms/step - loss: 0.4695 - accuracy: 0.7725 - val_loss: 0.4246 - val_accuracy: 0.7536\n",
      "\n",
      "Epoch 00010: val_loss did not improve from 0.42387\n",
      "Epoch 11/15\n",
      "464/464 [==============================] - 194s 417ms/step - loss: 0.4615 - accuracy: 0.7792 - val_loss: 0.5111 - val_accuracy: 0.7540\n",
      "\n",
      "Epoch 00011: val_loss did not improve from 0.42387\n",
      "Epoch 12/15\n",
      "464/464 [==============================] - 193s 416ms/step - loss: 0.4561 - accuracy: 0.7809 - val_loss: 0.3775 - val_accuracy: 0.7759\n",
      "\n",
      "Epoch 00012: val_loss improved from 0.42387 to 0.37755, saving model to model-012-0.780907-0.775935.h5\n",
      "Epoch 13/15\n",
      "464/464 [==============================] - 192s 414ms/step - loss: 0.4459 - accuracy: 0.7905 - val_loss: 0.4767 - val_accuracy: 0.7721\n",
      "\n",
      "Epoch 00013: val_loss did not improve from 0.37755\n",
      "Epoch 14/15\n",
      "464/464 [==============================] - 193s 415ms/step - loss: 0.4361 - accuracy: 0.7930 - val_loss: 0.3497 - val_accuracy: 0.7790\n",
      "\n",
      "Epoch 00014: val_loss improved from 0.37755 to 0.34973, saving model to model-014-0.793034-0.779020.h5\n",
      "Epoch 15/15\n",
      "464/464 [==============================] - 191s 412ms/step - loss: 0.4282 - accuracy: 0.8005 - val_loss: 0.4361 - val_accuracy: 0.7975\n",
      "\n",
      "Epoch 00015: val_loss did not improve from 0.34973\n"
     ]
    }
   ],
   "source": [
    "# Train the model\n",
    "batch_size = BATCH_SIZE\n",
    "train_steps_per_epoch = x_train.shape[0] // batch_size\n",
    "val_steps_per_epoch = x_val.shape[0] // batch_size\n",
    "checkpoint = ModelCheckpoint('model-{epoch:03d}-{accuracy:03f}-{val_accuracy:03f}.h5', verbose=1, monitor='val_loss',save_best_only=True, mode='auto')\n",
    "\n",
    "history = model.fit_generator(train_generator,\n",
    "                              steps_per_epoch=train_steps_per_epoch,\n",
    "                              validation_data=val_generator,\n",
    "                              validation_steps=val_steps_per_epoch,\n",
    "                              epochs=15,\n",
    "                              callbacks=[checkpoint],\n",
    "                              verbose=True)"
   ]
  },
  {
   "cell_type": "code",
   "execution_count": 30,
   "metadata": {},
   "outputs": [
    {
     "data": {
      "image/png": "[encoded data removed]",
      "text/plain": [
       "<Figure size 1080x360 with 2 Axes>"
      ]
     },
     "metadata": {},
     "output_type": "display_data"
    }
   ],
   "source": [
    "f, (ax1, ax2) = plt.subplots(1, 2, figsize=(15, 5))\n",
    "t = f.suptitle('Deep Neural Net Performance', fontsize=12)\n",
    "f.subplots_adjust(top=0.85, wspace=0.3)\n",
    "\n",
    "epochs = list(range(1,16))\n",
    "ax1.plot(epochs, history.history['accuracy'], label='Train Accuracy')\n",
    "ax1.plot(epochs, history.history['val_accuracy'], label='Validation Accuracy')\n",
    "ax1.set_xticks(epochs)\n",
    "ax1.set_ylabel('Accuracy Value')\n",
    "ax1.set_xlabel('Epoch')\n",
    "ax1.set_title('Accuracy')\n",
    "l1 = ax1.legend(loc=\"best\")\n",
    "\n",
    "ax2.plot(epochs, history.history['loss'], label='Train Loss')\n",
    "ax2.plot(epochs, history.history['val_loss'], label='Validation Loss')\n",
    "ax2.set_xticks(epochs)\n",
    "ax2.set_ylabel('Loss Value')\n",
    "ax2.set_xlabel('Epoch')\n",
    "ax2.set_title('Loss')\n",
    "l2 = ax2.legend(loc=\"best\")"
   ]
  },
  {
   "cell_type": "code",
   "execution_count": 34,
   "metadata": {},
   "outputs": [
    {
     "name": "stdout",
     "output_type": "stream",
     "text": [
      "Model: \"sequential_6\"\n",
      "_________________________________________________________________\n",
      "Layer (type)                 Output Shape              Param #   \n",
      "=================================================================\n",
      "conv2d_14 (Conv2D)           (None, 148, 148, 16)      448       \n",
      "_________________________________________________________________\n",
      "max_pooling2d_14 (MaxPooling (None, 74, 74, 16)        0         \n",
      "_________________________________________________________________\n",
      "conv2d_15 (Conv2D)           (None, 72, 72, 64)        9280      \n",
      "_________________________________________________________________\n",
      "max_pooling2d_15 (MaxPooling (None, 36, 36, 64)        0         \n",
      "_________________________________________________________________\n",
      "conv2d_16 (Conv2D)           (None, 34, 34, 128)       73856     \n",
      "_________________________________________________________________\n",
      "max_pooling2d_16 (MaxPooling (None, 17, 17, 128)       0         \n",
      "_________________________________________________________________\n",
      "conv2d_17 (Conv2D)           (None, 15, 15, 128)       147584    \n",
      "_________________________________________________________________\n",
      "max_pooling2d_17 (MaxPooling (None, 7, 7, 128)         0         \n",
      "_________________________________________________________________\n",
      "flatten_5 (Flatten)          (None, 6272)              0         \n",
      "_________________________________________________________________\n",
      "dense_10 (Dense)             (None, 512)               3211776   \n",
      "_________________________________________________________________\n",
      "dropout_3 (Dropout)          (None, 512)               0         \n",
      "_________________________________________________________________\n",
      "dense_11 (Dense)             (None, 512)               262656    \n",
      "_________________________________________________________________\n",
      "dropout_4 (Dropout)          (None, 512)               0         \n",
      "_________________________________________________________________\n",
      "dense_12 (Dense)             (None, 2)                 1026      \n",
      "=================================================================\n",
      "Total params: 3,706,626\n",
      "Trainable params: 3,706,626\n",
      "Non-trainable params: 0\n",
      "_________________________________________________________________\n"
     ]
    }
   ],
   "source": [
    "model = Sequential()\n",
    "\n",
    "model.add(Conv2D(16, kernel_size=(3, 3), activation='relu', \n",
    "                 input_shape=(150, 150, 3)))\n",
    "model.add(MaxPooling2D(pool_size=(2, 2)))\n",
    "\n",
    "model.add(Conv2D(64, kernel_size=(3, 3), activation='relu'))\n",
    "model.add(MaxPooling2D(pool_size=(2, 2)))\n",
    "\n",
    "model.add(Conv2D(128, kernel_size=(3, 3), activation='relu'))\n",
    "model.add(MaxPooling2D(pool_size=(2, 2)))\n",
    "\n",
    "model.add(Conv2D(128, kernel_size=(3, 3), activation='relu'))\n",
    "model.add(MaxPooling2D(pool_size=(2, 2)))\n",
    "\n",
    "model.add(Flatten())\n",
    "model.add(Dense(512, activation='relu'))\n",
    "model.add(Dropout(0.3))\n",
    "model.add(Dense(512, activation='relu'))\n",
    "model.add(Dropout(0.3))\n",
    "model.add(Dense(total_classes, activation='softmax'))\n",
    "#model.add(Dense(1, activation='sigmoid'))\n",
    "\n",
    "\n",
    "#predictions = Dense(total_classes, activation='softmax')(out)\n",
    "\n",
    "\n",
    "model.compile(loss='categorical_crossentropy',\n",
    "              optimizer=Adam(lr=.0001),\n",
    "              metrics=['accuracy'])\n",
    "\n",
    "model.summary()"
   ]
  },
  {
   "cell_type": "code",
   "execution_count": 35,
   "metadata": {},
   "outputs": [
    {
     "name": "stdout",
     "output_type": "stream",
     "text": [
      "Epoch 1/15\n",
      "464/464 [==============================] - 151s 326ms/step - loss: 0.6702 - accuracy: 0.5795 - val_loss: 0.5913 - val_accuracy: 0.6399\n",
      "\n",
      "Epoch 00001: val_loss improved from inf to 0.59129, saving model to model-001-0.579532-0.639863.h5\n",
      "Epoch 2/15\n",
      "464/464 [==============================] - 147s 318ms/step - loss: 0.6109 - accuracy: 0.6663 - val_loss: 0.5507 - val_accuracy: 0.7038\n",
      "\n",
      "Epoch 00002: val_loss improved from 0.59129 to 0.55070, saving model to model-002-0.666307-0.703818.h5\n",
      "Epoch 3/15\n",
      "464/464 [==============================] - 146s 315ms/step - loss: 0.5682 - accuracy: 0.7012 - val_loss: 0.3604 - val_accuracy: 0.7146\n",
      "\n",
      "Epoch 00003: val_loss improved from 0.55070 to 0.36039, saving model to model-003-0.701206-0.714616.h5\n",
      "Epoch 4/15\n",
      "464/464 [==============================] - 149s 322ms/step - loss: 0.5419 - accuracy: 0.7263 - val_loss: 0.5838 - val_accuracy: 0.7304\n",
      "\n",
      "Epoch 00004: val_loss did not improve from 0.36039\n",
      "Epoch 5/15\n",
      "464/464 [==============================] - 151s 325ms/step - loss: 0.5161 - accuracy: 0.7465 - val_loss: 0.5637 - val_accuracy: 0.7513\n",
      "\n",
      "Epoch 00005: val_loss did not improve from 0.36039\n",
      "Epoch 6/15\n",
      "464/464 [==============================] - 148s 318ms/step - loss: 0.4946 - accuracy: 0.7632 - val_loss: 0.4415 - val_accuracy: 0.7644\n",
      "\n",
      "Epoch 00006: val_loss did not improve from 0.36039\n",
      "Epoch 7/15\n",
      "464/464 [==============================] - 149s 320ms/step - loss: 0.4753 - accuracy: 0.7733 - val_loss: 0.4077 - val_accuracy: 0.7316\n",
      "\n",
      "Epoch 00007: val_loss did not improve from 0.36039\n",
      "Epoch 8/15\n",
      "464/464 [==============================] - 147s 316ms/step - loss: 0.4563 - accuracy: 0.7864 - val_loss: 0.5790 - val_accuracy: 0.7489\n",
      "\n",
      "Epoch 00008: val_loss did not improve from 0.36039\n",
      "Epoch 9/15\n",
      "464/464 [==============================] - 143s 308ms/step - loss: 0.4360 - accuracy: 0.8003 - val_loss: 0.3091 - val_accuracy: 0.7971\n",
      "\n",
      "Epoch 00009: val_loss improved from 0.36039 to 0.30910, saving model to model-009-0.800310-0.797146.h5\n",
      "Epoch 10/15\n",
      "464/464 [==============================] - 143s 308ms/step - loss: 0.4191 - accuracy: 0.8052 - val_loss: 0.4313 - val_accuracy: 0.8072\n",
      "\n",
      "Epoch 00010: val_loss did not improve from 0.30910\n",
      "Epoch 11/15\n",
      "464/464 [==============================] - 145s 313ms/step - loss: 0.4063 - accuracy: 0.8176 - val_loss: 0.4762 - val_accuracy: 0.8103\n",
      "\n",
      "Epoch 00011: val_loss did not improve from 0.30910\n",
      "Epoch 12/15\n",
      "464/464 [==============================] - 144s 310ms/step - loss: 0.3915 - accuracy: 0.8242 - val_loss: 0.3747 - val_accuracy: 0.8076\n",
      "\n",
      "Epoch 00012: val_loss did not improve from 0.30910\n",
      "Epoch 13/15\n",
      "464/464 [==============================] - 143s 309ms/step - loss: 0.3771 - accuracy: 0.8274 - val_loss: 0.3932 - val_accuracy: 0.8280\n",
      "\n",
      "Epoch 00013: val_loss did not improve from 0.30910\n",
      "Epoch 14/15\n",
      "464/464 [==============================] - 143s 308ms/step - loss: 0.3653 - accuracy: 0.8351 - val_loss: 0.4848 - val_accuracy: 0.8369\n",
      "\n",
      "Epoch 00014: val_loss did not improve from 0.30910\n",
      "Epoch 15/15\n",
      "464/464 [==============================] - 143s 308ms/step - loss: 0.3589 - accuracy: 0.8388 - val_loss: 0.3693 - val_accuracy: 0.8411\n",
      "\n",
      "Epoch 00015: val_loss did not improve from 0.30910\n"
     ]
    }
   ],
   "source": [
    "# Train the model\n",
    "batch_size = BATCH_SIZE\n",
    "train_steps_per_epoch = x_train.shape[0] // batch_size\n",
    "val_steps_per_epoch = x_val.shape[0] // batch_size\n",
    "checkpoint = ModelCheckpoint('model-{epoch:03d}-{accuracy:03f}-{val_accuracy:03f}.h5', verbose=1, monitor='val_loss',save_best_only=True, mode='auto')\n",
    "\n",
    "history = model.fit_generator(train_generator,\n",
    "                              steps_per_epoch=train_steps_per_epoch,\n",
    "                              validation_data=val_generator,\n",
    "                              validation_steps=val_steps_per_epoch,\n",
    "                              epochs=15,\n",
    "                              callbacks=[checkpoint],\n",
    "                              verbose=True)"
   ]
  },
  {
   "cell_type": "code",
   "execution_count": 36,
   "metadata": {},
   "outputs": [
    {
     "data": {
      "image/png": "[encoded data removed]",
      "text/plain": [
       "<Figure size 1080x360 with 2 Axes>"
      ]
     },
     "metadata": {},
     "output_type": "display_data"
    }
   ],
   "source": [
    "f, (ax1, ax2) = plt.subplots(1, 2, figsize=(15, 5))\n",
    "t = f.suptitle('Deep Neural Net Performance', fontsize=12)\n",
    "f.subplots_adjust(top=0.85, wspace=0.3)\n",
    "\n",
    "epochs = list(range(1,16))\n",
    "ax1.plot(epochs, history.history['accuracy'], label='Train Accuracy')\n",
    "ax1.plot(epochs, history.history['val_accuracy'], label='Validation Accuracy')\n",
    "ax1.set_xticks(epochs)\n",
    "ax1.set_ylabel('Accuracy Value')\n",
    "ax1.set_xlabel('Epoch')\n",
    "ax1.set_title('Accuracy')\n",
    "l1 = ax1.legend(loc=\"best\")\n",
    "\n",
    "ax2.plot(epochs, history.history['loss'], label='Train Loss')\n",
    "ax2.plot(epochs, history.history['val_loss'], label='Validation Loss')\n",
    "ax2.set_xticks(epochs)\n",
    "ax2.set_ylabel('Loss Value')\n",
    "ax2.set_xlabel('Epoch')\n",
    "ax2.set_title('Loss')\n",
    "l2 = ax2.legend(loc=\"best\")"
   ]
  },
  {
   "cell_type": "code",
   "execution_count": 37,
   "metadata": {},
   "outputs": [],
   "source": [
    "model.save('cats_dogs_basic_cnn.h5')"
   ]
  },
  {
   "cell_type": "markdown",
   "metadata": {},
   "source": [
    "## Test Model Performance\n",
    "\n",
    "Step 1 is to prepare the training dataset. Since we scaled training data, test data should also be scaled in a similar manner. \n",
    "\n",
    "_Note: Deep Learning models are very sensitive to scaling._"
   ]
  },
  {
   "cell_type": "code",
   "execution_count": 38,
   "metadata": {},
   "outputs": [],
   "source": [
    "# scaling test features\n",
    "x_test /= 255."
   ]
  },
  {
   "cell_type": "code",
   "execution_count": 39,
   "metadata": {},
   "outputs": [
    {
     "data": {
      "text/plain": [
       "array([[0.133854  , 0.86614597],\n",
       "       [0.05914894, 0.94085103],\n",
       "       [0.07031436, 0.9296857 ],\n",
       "       ...,\n",
       "       [0.3612689 , 0.6387311 ],\n",
       "       [0.42578194, 0.57421803],\n",
       "       [0.668006  , 0.33199397]], dtype=float32)"
      ]
     },
     "execution_count": 39,
     "metadata": {},
     "output_type": "execute_result"
    }
   ],
   "source": [
    "test_predictions = model.predict(x_test)\n",
    "test_predictions"
   ]
  },
  {
   "cell_type": "code",
   "execution_count": 40,
   "metadata": {},
   "outputs": [
    {
     "data": {
      "text/html": [
       "<div>\n",
       "<style scoped>\n",
       "    .dataframe tbody tr th:only-of-type {\n",
       "        vertical-align: middle;\n",
       "    }\n",
       "\n",
       "    .dataframe tbody tr th {\n",
       "        vertical-align: top;\n",
       "    }\n",
       "\n",
       "    .dataframe thead th {\n",
       "        text-align: right;\n",
       "    }\n",
       "</style>\n",
       "<table border=\"1\" class=\"dataframe\">\n",
       "  <thead>\n",
       "    <tr style=\"text-align: right;\">\n",
       "      <th></th>\n",
       "      <th>cat</th>\n",
       "      <th>dog</th>\n",
       "    </tr>\n",
       "  </thead>\n",
       "  <tbody>\n",
       "    <tr>\n",
       "      <th>0</th>\n",
       "      <td>0.133854</td>\n",
       "      <td>0.866146</td>\n",
       "    </tr>\n",
       "    <tr>\n",
       "      <th>1</th>\n",
       "      <td>0.059149</td>\n",
       "      <td>0.940851</td>\n",
       "    </tr>\n",
       "    <tr>\n",
       "      <th>2</th>\n",
       "      <td>0.070314</td>\n",
       "      <td>0.929686</td>\n",
       "    </tr>\n",
       "    <tr>\n",
       "      <th>3</th>\n",
       "      <td>0.689495</td>\n",
       "      <td>0.310505</td>\n",
       "    </tr>\n",
       "    <tr>\n",
       "      <th>4</th>\n",
       "      <td>0.047847</td>\n",
       "      <td>0.952153</td>\n",
       "    </tr>\n",
       "  </tbody>\n",
       "</table>\n",
       "</div>"
      ],
      "text/plain": [
       "        cat       dog\n",
       "0  0.133854  0.866146\n",
       "1  0.059149  0.940851\n",
       "2  0.070314  0.929686\n",
       "3  0.689495  0.310505\n",
       "4  0.047847  0.952153"
      ]
     },
     "execution_count": 40,
     "metadata": {},
     "output_type": "execute_result"
    }
   ],
   "source": [
    "predictions = pd.DataFrame(test_predictions, columns=labels_ohe_names.columns)\n",
    "predictions.head()"
   ]
  },
  {
   "cell_type": "code",
   "execution_count": 41,
   "metadata": {},
   "outputs": [],
   "source": [
    "def get_x_test(img_path, img_height, img_width):\n",
    "    return np.array([img_to_array(load_img(img_path, target_size=(img_height, img_width)))]).astype('float32')\n"
   ]
  },
  {
   "cell_type": "code",
   "execution_count": 42,
   "metadata": {},
   "outputs": [],
   "source": [
    "def predict(x_test, model):\n",
    "    #x_test = kimage.resize(image, 299, 299) \n",
    "    x_test /= 255.0\n",
    "    test_predictions = model.predict(x_test)\n",
    "    predictions = pd.DataFrame(test_predictions, columns=labels_ohe_names.columns)\n",
    "    predictions = list(predictions.idxmax(axis=1))\n",
    "    return predictions\n",
    "    "
   ]
  },
  {
   "cell_type": "code",
   "execution_count": 43,
   "metadata": {},
   "outputs": [],
   "source": [
    "def getImagesFilePathsFromFolder(path):\n",
    "    onlyfiles = [ join(path,f) for f in listdir(path) if ( isfile(join(path, f)) and (\".jpg\" in f) )]\n",
    "    return onlyfiles"
   ]
  },
  {
   "cell_type": "code",
   "execution_count": 44,
   "metadata": {},
   "outputs": [
    {
     "data": {
      "text/plain": [
       "['dog', 'dog', 'dog', 'cat', 'dog', 'dog', 'dog', 'dog', 'dog', 'dog']"
      ]
     },
     "execution_count": 44,
     "metadata": {},
     "output_type": "execute_result"
    }
   ],
   "source": [
    "test_labels = list(y_test)\n",
    "predictions = list(predictions.idxmax(axis=1))\n",
    "predictions[:10]"
   ]
  },
  {
   "cell_type": "markdown",
   "metadata": {},
   "source": [
    "### Save Model to disk"
   ]
  },
  {
   "cell_type": "code",
   "execution_count": 45,
   "metadata": {},
   "outputs": [
    {
     "name": "stdout",
     "output_type": "stream",
     "text": [
      "Saved model to disk\n"
     ]
    }
   ],
   "source": [
    "MODEL_JSON_PATH = \"/Volumes/My Passport for Mac/model/dogs-vs-cats.json\"\n",
    "MODEL_H5_PATH = \"/Volumes/My Passport for Mac/model/dogs-vs-cats.h5\"\n",
    "\n",
    "\n",
    "# serialize model to JSON\n",
    "model_json = model.to_json()\n",
    "with open(MODEL_JSON_PATH, \"w\") as json_file:\n",
    "    json_file.write(model_json)\n",
    "# serialize weights to HDF5\n",
    "model.save_weights(MODEL_H5_PATH)\n",
    "print(\"Saved model to disk\")"
   ]
  },
  {
   "cell_type": "markdown",
   "metadata": {},
   "source": [
    "### Load model from disk"
   ]
  },
  {
   "cell_type": "code",
   "execution_count": 46,
   "metadata": {},
   "outputs": [
    {
     "name": "stdout",
     "output_type": "stream",
     "text": [
      "Loaded model from disk\n"
     ]
    }
   ],
   "source": [
    "# load json and create model\n",
    "json_file = open(MODEL_JSON_PATH, 'r')\n",
    "loaded_model_json = json_file.read()\n",
    "json_file.close()\n",
    "loaded_model = model_from_json(loaded_model_json)\n",
    "# load weights into new model\n",
    "loaded_model.load_weights(MODEL_H5_PATH)\n",
    "print(\"Loaded model from disk\")\n",
    " \n",
    "# evaluate loaded model on test data\n",
    "loaded_model.compile(Adam(lr=.0001), loss='categorical_crossentropy', metrics=['accuracy']) \n"
   ]
  },
  {
   "cell_type": "markdown",
   "metadata": {},
   "source": [
    "### Load test images and test predictions"
   ]
  },
  {
   "cell_type": "code",
   "execution_count": null,
   "metadata": {},
   "outputs": [],
   "source": [
    "path = \"/Volumes/My Passport for Mac/data/dogs-vs-cats/test/\"\n",
    "fileCount = len(getImagesFilePathsFromFolder(path)) \n",
    "#print(getImagesFilePathsFromFolder(path))\n",
    "fig, ax = plt.subplots(1,fileCount, figsize=(50,50))\n",
    "img_Counter=0;\n",
    "\n",
    "for img_path in getImagesFilePathsFromFolder(path):\n",
    "    print(img_path)\n",
    "    breed = predict(get_x_test(img_path, 150, 150), loaded_model)[0]\n",
    "    print(breed)\n",
    "    ax[img_Counter].set_title(breed)\n",
    "    ax[img_Counter].imshow(load_img(img_path, target_size=(150, 150)))\n",
    "    img_Counter = img_Counter + 1\n",
    "\n"
   ]
  },
  {
   "cell_type": "markdown",
   "metadata": {},
   "source": [
    "## Analyze Test Performance"
   ]
  },
  {
   "cell_type": "code",
   "execution_count": null,
   "metadata": {},
   "outputs": [],
   "source": [
    "import model_evaluation_utils as meu"
   ]
  },
  {
   "cell_type": "code",
   "execution_count": null,
   "metadata": {},
   "outputs": [],
   "source": [
    "meu.get_metrics(true_labels=test_labels, \n",
    "                predicted_labels=predictions)"
   ]
  },
  {
   "cell_type": "code",
   "execution_count": null,
   "metadata": {},
   "outputs": [],
   "source": [
    "meu.display_classification_report(true_labels=test_labels, \n",
    "                                  predicted_labels=predictions, \n",
    "                                  classes=list(labels_ohe_names.columns))"
   ]
  },
  {
   "cell_type": "code",
   "execution_count": null,
   "metadata": {},
   "outputs": [],
   "source": [
    "meu.display_confusion_matrix(true_labels=test_labels, \n",
    "                                    predicted_labels=predictions, \n",
    "                                    classes=list(labels_ohe_names.columns))"
   ]
  },
  {
   "cell_type": "markdown",
   "metadata": {},
   "source": [
    "## Visualize Model Performance\n",
    "Visualize model performance with actual images, labels and prediction confidence"
   ]
  },
  {
   "cell_type": "code",
   "execution_count": null,
   "metadata": {},
   "outputs": [],
   "source": [
    "grid_width = 5\n",
    "grid_height = 5\n",
    "f, ax = plt.subplots(grid_width, grid_height)\n",
    "f.set_size_inches(15, 15)\n",
    "batch_size = 25\n",
    "dataset = x_test\n",
    "\n",
    "label_dict = dict(enumerate(labels_ohe_names.columns.values))\n",
    "model_input_shape = (1,)+model.get_input_shape_at(0)[1:]\n",
    "random_batch_indx = np.random.permutation(np.arange(0,len(dataset)))[:batch_size]\n",
    "\n",
    "img_idx = 0\n",
    "for i in range(0, grid_width):\n",
    "    for j in range(0, grid_height):\n",
    "        actual_label = np.array(y_test)[random_batch_indx[img_idx]]\n",
    "        prediction = model.predict(dataset[random_batch_indx[img_idx]].reshape(model_input_shape))[0]\n",
    "        label_idx = np.argmax(prediction)\n",
    "        predicted_label = label_dict.get(label_idx)\n",
    "        conf = round(prediction[label_idx], 2)\n",
    "        ax[i][j].axis('off')\n",
    "        ax[i][j].set_title('Actual: '+actual_label+'\\nPred: '+predicted_label + '\\nConf: ' +str(conf))\n",
    "        ax[i][j].imshow(dataset[random_batch_indx[img_idx]])\n",
    "        img_idx += 1\n",
    "\n",
    "plt.subplots_adjust(left=0, bottom=0, right=1, top=1, wspace=0.5, hspace=0.55)    "
   ]
  },
  {
   "cell_type": "code",
   "execution_count": null,
   "metadata": {},
   "outputs": [],
   "source": []
  },
  {
   "cell_type": "code",
   "execution_count": null,
   "metadata": {},
   "outputs": [],
   "source": []
  },
  {
   "cell_type": "code",
   "execution_count": null,
   "metadata": {},
   "outputs": [],
   "source": []
  },
  {
   "cell_type": "code",
   "execution_count": null,
   "metadata": {},
   "outputs": [],
   "source": []
  },
  {
   "cell_type": "code",
   "execution_count": null,
   "metadata": {},
   "outputs": [],
   "source": []
  }
 ],
 "metadata": {
  "anaconda-cloud": {},
  "kernelspec": {
   "display_name": "Python 3",
   "language": "python",
   "name": "python3"
  }
 },
 "nbformat": 4,
 "nbformat_minor": 2
}
