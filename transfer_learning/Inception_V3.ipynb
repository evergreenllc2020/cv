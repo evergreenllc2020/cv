{
 "cells": [
  {
   "cell_type": "code",
   "execution_count": null,
   "metadata": {},
   "outputs": [
    {
     "name": "stderr",
     "output_type": "stream",
     "text": [
      "Using TensorFlow backend.\n"
     ]
    }
   ],
   "source": [
    "from keras.applications.inception_v3 import InceptionV3\n",
    "from keras.applications.inception_v3 import preprocess_input\n",
    "from keras.applications.inception_v3 import decode_predictions\n",
    "\n",
    "from keras.preprocessing import image\n",
    "\n",
    "import numpy as np\n",
    "import matplotlib.pyplot as plt\n"
   ]
  },
  {
   "cell_type": "code",
   "execution_count": null,
   "metadata": {},
   "outputs": [],
   "source": [
    "#--------------------------------\n",
    "\n",
    "store_model = False\n",
    "\n",
    "#--------------------------------\n",
    "\n",
    "MODEL_STRUCTURE_PATH = \"/Volumes/My Passport for Mac/model/inceptionv3_structure.json\"\n",
    "MODEL_WEIGHTS_PATH = \"/Volumes/My Passport for Mac/model/inceptionv3_weights.h5\"\n",
    "\n",
    "if store_model == True:\n",
    "\tmodel = InceptionV3(weights='imagenet', include_top=True)\n",
    "\t\n",
    "\t#save model and weights\n",
    "\tmodel_config = model.to_json()\n",
    "\topen(MODEL_STRUCTURE_PATH, \"w\").write(model_config)\n",
    "\tmodel.save_weights(MODEL_WEIGHTS_PATH)\n",
    "else:\n",
    "\tfrom keras.models import model_from_json\n",
    "\tmodel = model_from_json(open(MODEL_STRUCTURE_PATH, \"r\").read())\n",
    "\tmodel.load_weights(MODEL_WEIGHTS_PATH)\n",
    "\tprint(\"inception v3 model loaded\")\n",
    "\t\n",
    "#\n",
    "print(\"model structure: \", model.summary())"
   ]
  },
  {
   "cell_type": "code",
   "execution_count": null,
   "metadata": {},
   "outputs": [],
   "source": [
    "DATA_PATH = \"/Volumes/My Passport for Mac/data/test_animals\"\n",
    "\n",
    "\n",
    "#print(\"model weights: \", model.get_weights())\n",
    "\n",
    "#put images in testset folder, name images from 1.jpg to 16.jpg\n",
    "for i in range(1, 11):\n",
    "\t\n",
    "\timg_path = DATA_PATH + '/%s.jpg' % (i)\n",
    "\t\n",
    "\timg = image.load_img(img_path, target_size=(299, 299))\n",
    "\tx = image.img_to_array(img)\n",
    "\tx = np.expand_dims(x, axis = 0)\n",
    "\tx = preprocess_input(x)\n",
    "\t\n",
    "\tfeatures = model.predict(x)\n",
    "\tprint(features)\n",
    "\tprint(decode_predictions(features, top = 3))\n",
    "\t\n",
    "\tplt.imshow(image.load_img(img_path))\n",
    "\tplt.show()"
   ]
  },
  {
   "cell_type": "code",
   "execution_count": null,
   "metadata": {},
   "outputs": [],
   "source": []
  }
 ],
 "metadata": {
  "kernelspec": {
   "display_name": "Python 3",
   "language": "python",
   "name": "python3"
  },
  "language_info": {
   "codemirror_mode": {
    "name": "ipython",
    "version": 3
   },
   "file_extension": ".py",
   "mimetype": "text/x-python",
   "name": "python",
   "nbconvert_exporter": "python",
   "pygments_lexer": "ipython3",
   "version": "3.6.9"
  }
 },
 "nbformat": 4,
 "nbformat_minor": 2
}
